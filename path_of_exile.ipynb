{
 "cells": [
  {
   "cell_type": "markdown",
   "metadata": {},
   "source": [
    "# PoE"
   ]
  },
  {
   "cell_type": "code",
   "execution_count": 1,
   "metadata": {},
   "outputs": [],
   "source": [
    "import numpy as np\n",
    "import pandas as pd\n",
    "\n",
    "import matplotlib.pyplot as plt\n",
    "\n",
    "from sklearn.decomposition import PCA\n",
    "from sklearn.discriminant_analysis import LinearDiscriminantAnalysis as LDA\n",
    "\n",
    "from sklearn.model_selection import cross_val_predict\n",
    "from sklearn.model_selection import cross_val_score\n",
    "\n",
    "from lightgbm import LGBMClassifier\n",
    "from lightgbm import plot_importance"
   ]
  },
  {
   "cell_type": "code",
   "execution_count": null,
   "metadata": {},
   "outputs": [],
   "source": [
    "# armour: egrep \"^[0-9]+\\.[0-9]+,[0-9]+\\.[0-9]+,[0-9]+\\.[0-9]+,[0-9]+\\.[0-9]+,[0-9]+\\.[0-9]+,[0-9]+\\.[0-9]+,1.0\"\n",
    "    \n",
    "def rename_column(col):\n",
    "    return col \\\n",
    "        .replace(' ', '_') \\\n",
    "        .replace('.', '_') \\\n",
    "        .replace('\\n', '') \\\n",
    "        .replace('\\'', '') \\\n",
    "        .replace('\\\\d+', 'n') \\\n",
    "        .replace('%', 'p')\n",
    "\n",
    "def process_items():\n",
    "    items = pd.read_csv('/home/jovyan/work/poe/data-armour-289k.csv')\n",
    "    armour = items.loc[items['is armour'] == 1]\n",
    "    armour = armour.drop(['is armour'], axis=1)\n",
    "    print(armour.shape)\n",
    "    \n",
    "    armour_filtered = armour.loc[:, (armour != 0).any(axis=0)]\n",
    "    armour_filtered = armour_filtered.rename(columns=lambda col: rename_column(col))\n",
    "    print(armour_filtered.shape)\n",
    "    \n",
    "    armour_filtered.to_csv('/home/jovyan/work/poe/data-armour-289k-filtered.csv', index=False)\n",
    "    \n",
    "# process_items()"
   ]
  },
  {
   "cell_type": "markdown",
   "metadata": {},
   "source": [
    "## Price analysis"
   ]
  },
  {
   "cell_type": "code",
   "execution_count": 47,
   "metadata": {},
   "outputs": [
    {
     "data": {
      "text/plain": [
       "(289212, 300)"
      ]
     },
     "execution_count": 47,
     "metadata": {},
     "output_type": "execute_result"
    }
   ],
   "source": [
    "armour = pd.read_csv('/home/jovyan/work/poe/data-armour-289k-filtered.csv')\n",
    "armour.shape"
   ]
  },
  {
   "cell_type": "code",
   "execution_count": 48,
   "metadata": {},
   "outputs": [
    {
     "data": {
      "text/html": [
       "<div>\n",
       "<style scoped>\n",
       "    .dataframe tbody tr th:only-of-type {\n",
       "        vertical-align: middle;\n",
       "    }\n",
       "\n",
       "    .dataframe tbody tr th {\n",
       "        vertical-align: top;\n",
       "    }\n",
       "\n",
       "    .dataframe thead th {\n",
       "        text-align: right;\n",
       "    }\n",
       "</style>\n",
       "<table border=\"1\" class=\"dataframe\">\n",
       "  <thead>\n",
       "    <tr style=\"text-align: right;\">\n",
       "      <th></th>\n",
       "      <th>price</th>\n",
       "      <th>item_level</th>\n",
       "      <th>num_of_sockets</th>\n",
       "      <th>num_of_linked_sockets</th>\n",
       "      <th>corrupted</th>\n",
       "      <th>Abyss</th>\n",
       "      <th>Map_Tier</th>\n",
       "      <th>Two_Handed_Axe</th>\n",
       "      <th>Bow</th>\n",
       "      <th>Item_Rarity</th>\n",
       "      <th>...</th>\n",
       "      <th>np_Monster_Physical_Damage_Reduction</th>\n",
       "      <th>Craicic_Presence</th>\n",
       "      <th>np_additional_Chance_to_Block_Spells_while_Dual_Wielding</th>\n",
       "      <th>Area_is_inhabited_by_Abominations</th>\n",
       "      <th>np_of_Physical_Damage_from_Hits_taken_as_Fire_Damage</th>\n",
       "      <th>Adds_n_to_n_Cold_Damage_against_Chilled_or_Frozen_Enemies</th>\n",
       "      <th>Adds_n_to_n_Physical_Damage_to_Claw_Attacks</th>\n",
       "      <th>Socketed_Spells_have_np_to_Critical_Strike_Chance</th>\n",
       "      <th>Adds_n_to_n_Physical_Damage_to_Staff_Attacks</th>\n",
       "      <th>Allies_Regenerate_Life</th>\n",
       "    </tr>\n",
       "  </thead>\n",
       "  <tbody>\n",
       "    <tr>\n",
       "      <th>0</th>\n",
       "      <td>14.0</td>\n",
       "      <td>70.0</td>\n",
       "      <td>2.0</td>\n",
       "      <td>1.0</td>\n",
       "      <td>0.0</td>\n",
       "      <td>0.0</td>\n",
       "      <td>29.0</td>\n",
       "      <td>0.0</td>\n",
       "      <td>0.0</td>\n",
       "      <td>0.0</td>\n",
       "      <td>...</td>\n",
       "      <td>0.0</td>\n",
       "      <td>0.0</td>\n",
       "      <td>0.0</td>\n",
       "      <td>0.0</td>\n",
       "      <td>0.0</td>\n",
       "      <td>0.0</td>\n",
       "      <td>0.0</td>\n",
       "      <td>174.0</td>\n",
       "      <td>0.0</td>\n",
       "      <td>0.0</td>\n",
       "    </tr>\n",
       "    <tr>\n",
       "      <th>1</th>\n",
       "      <td>4900.0</td>\n",
       "      <td>82.0</td>\n",
       "      <td>0.0</td>\n",
       "      <td>0.0</td>\n",
       "      <td>1.0</td>\n",
       "      <td>0.0</td>\n",
       "      <td>90.0</td>\n",
       "      <td>0.0</td>\n",
       "      <td>0.0</td>\n",
       "      <td>0.0</td>\n",
       "      <td>...</td>\n",
       "      <td>0.0</td>\n",
       "      <td>0.0</td>\n",
       "      <td>0.0</td>\n",
       "      <td>0.0</td>\n",
       "      <td>0.0</td>\n",
       "      <td>0.0</td>\n",
       "      <td>0.0</td>\n",
       "      <td>0.0</td>\n",
       "      <td>0.0</td>\n",
       "      <td>0.0</td>\n",
       "    </tr>\n",
       "    <tr>\n",
       "      <th>2</th>\n",
       "      <td>700.0</td>\n",
       "      <td>78.0</td>\n",
       "      <td>3.0</td>\n",
       "      <td>1.0</td>\n",
       "      <td>0.0</td>\n",
       "      <td>0.0</td>\n",
       "      <td>80.0</td>\n",
       "      <td>0.0</td>\n",
       "      <td>0.0</td>\n",
       "      <td>92.0</td>\n",
       "      <td>...</td>\n",
       "      <td>0.0</td>\n",
       "      <td>0.0</td>\n",
       "      <td>0.0</td>\n",
       "      <td>0.0</td>\n",
       "      <td>0.0</td>\n",
       "      <td>0.0</td>\n",
       "      <td>0.0</td>\n",
       "      <td>234.0</td>\n",
       "      <td>0.0</td>\n",
       "      <td>0.0</td>\n",
       "    </tr>\n",
       "    <tr>\n",
       "      <th>3</th>\n",
       "      <td>560.0</td>\n",
       "      <td>72.0</td>\n",
       "      <td>4.0</td>\n",
       "      <td>1.0</td>\n",
       "      <td>0.0</td>\n",
       "      <td>0.0</td>\n",
       "      <td>69.0</td>\n",
       "      <td>0.0</td>\n",
       "      <td>0.0</td>\n",
       "      <td>0.0</td>\n",
       "      <td>...</td>\n",
       "      <td>0.0</td>\n",
       "      <td>0.0</td>\n",
       "      <td>0.0</td>\n",
       "      <td>0.0</td>\n",
       "      <td>0.0</td>\n",
       "      <td>0.0</td>\n",
       "      <td>331.0</td>\n",
       "      <td>0.0</td>\n",
       "      <td>20.0</td>\n",
       "      <td>0.0</td>\n",
       "    </tr>\n",
       "    <tr>\n",
       "      <th>4</th>\n",
       "      <td>14.0</td>\n",
       "      <td>44.0</td>\n",
       "      <td>1.0</td>\n",
       "      <td>1.0</td>\n",
       "      <td>0.0</td>\n",
       "      <td>0.0</td>\n",
       "      <td>0.0</td>\n",
       "      <td>0.0</td>\n",
       "      <td>0.0</td>\n",
       "      <td>0.0</td>\n",
       "      <td>...</td>\n",
       "      <td>0.0</td>\n",
       "      <td>0.0</td>\n",
       "      <td>0.0</td>\n",
       "      <td>0.0</td>\n",
       "      <td>0.0</td>\n",
       "      <td>71.0</td>\n",
       "      <td>0.0</td>\n",
       "      <td>0.0</td>\n",
       "      <td>0.0</td>\n",
       "      <td>0.0</td>\n",
       "    </tr>\n",
       "  </tbody>\n",
       "</table>\n",
       "<p>5 rows × 300 columns</p>\n",
       "</div>"
      ],
      "text/plain": [
       "    price  item_level  num_of_sockets  num_of_linked_sockets  corrupted  \\\n",
       "0    14.0        70.0             2.0                    1.0        0.0   \n",
       "1  4900.0        82.0             0.0                    0.0        1.0   \n",
       "2   700.0        78.0             3.0                    1.0        0.0   \n",
       "3   560.0        72.0             4.0                    1.0        0.0   \n",
       "4    14.0        44.0             1.0                    1.0        0.0   \n",
       "\n",
       "   Abyss  Map_Tier  Two_Handed_Axe  Bow  Item_Rarity           ...            \\\n",
       "0    0.0      29.0             0.0  0.0          0.0           ...             \n",
       "1    0.0      90.0             0.0  0.0          0.0           ...             \n",
       "2    0.0      80.0             0.0  0.0         92.0           ...             \n",
       "3    0.0      69.0             0.0  0.0          0.0           ...             \n",
       "4    0.0       0.0             0.0  0.0          0.0           ...             \n",
       "\n",
       "   np_Monster_Physical_Damage_Reduction  Craicic_Presence  \\\n",
       "0                                   0.0               0.0   \n",
       "1                                   0.0               0.0   \n",
       "2                                   0.0               0.0   \n",
       "3                                   0.0               0.0   \n",
       "4                                   0.0               0.0   \n",
       "\n",
       "   np_additional_Chance_to_Block_Spells_while_Dual_Wielding  \\\n",
       "0                                                0.0          \n",
       "1                                                0.0          \n",
       "2                                                0.0          \n",
       "3                                                0.0          \n",
       "4                                                0.0          \n",
       "\n",
       "   Area_is_inhabited_by_Abominations  \\\n",
       "0                                0.0   \n",
       "1                                0.0   \n",
       "2                                0.0   \n",
       "3                                0.0   \n",
       "4                                0.0   \n",
       "\n",
       "   np_of_Physical_Damage_from_Hits_taken_as_Fire_Damage  \\\n",
       "0                                                0.0      \n",
       "1                                                0.0      \n",
       "2                                                0.0      \n",
       "3                                                0.0      \n",
       "4                                                0.0      \n",
       "\n",
       "   Adds_n_to_n_Cold_Damage_against_Chilled_or_Frozen_Enemies  \\\n",
       "0                                                0.0           \n",
       "1                                                0.0           \n",
       "2                                                0.0           \n",
       "3                                                0.0           \n",
       "4                                               71.0           \n",
       "\n",
       "   Adds_n_to_n_Physical_Damage_to_Claw_Attacks  \\\n",
       "0                                          0.0   \n",
       "1                                          0.0   \n",
       "2                                          0.0   \n",
       "3                                        331.0   \n",
       "4                                          0.0   \n",
       "\n",
       "   Socketed_Spells_have_np_to_Critical_Strike_Chance  \\\n",
       "0                                              174.0   \n",
       "1                                                0.0   \n",
       "2                                              234.0   \n",
       "3                                                0.0   \n",
       "4                                                0.0   \n",
       "\n",
       "   Adds_n_to_n_Physical_Damage_to_Staff_Attacks  Allies_Regenerate_Life  \n",
       "0                                           0.0                     0.0  \n",
       "1                                           0.0                     0.0  \n",
       "2                                           0.0                     0.0  \n",
       "3                                          20.0                     0.0  \n",
       "4                                           0.0                     0.0  \n",
       "\n",
       "[5 rows x 300 columns]"
      ]
     },
     "execution_count": 48,
     "metadata": {},
     "output_type": "execute_result"
    }
   ],
   "source": [
    "armour.head()"
   ]
  },
  {
   "cell_type": "code",
   "execution_count": 171,
   "metadata": {},
   "outputs": [
    {
     "data": {
      "text/plain": [
       "count    289212.000000\n",
       "mean          0.725444\n",
       "std           5.689681\n",
       "min           0.000000\n",
       "25%           0.000000\n",
       "50%           0.000000\n",
       "75%           0.000000\n",
       "max          79.000000\n",
       "Name: Two_Handed_Axe, dtype: float64"
      ]
     },
     "execution_count": 171,
     "metadata": {},
     "output_type": "execute_result"
    }
   ],
   "source": [
    "armour.Two_Handed_Axe.describe()"
   ]
  },
  {
   "cell_type": "code",
   "execution_count": 154,
   "metadata": {},
   "outputs": [],
   "source": [
    "price_bins_ranges = [0, 50, 100, 200, 500]\n",
    "price_bins = len(price_bins_ranges) - 1"
   ]
  },
  {
   "cell_type": "code",
   "execution_count": 155,
   "metadata": {},
   "outputs": [
    {
     "data": {
      "text/plain": [
       "count         289212.000000\n",
       "mean         1900942.652661\n",
       "std        353669220.374586\n",
       "min                0.000000\n",
       "25%               28.000000\n",
       "50%               70.000000\n",
       "75%              350.000000\n",
       "max      69999999300.000000\n",
       "Name: price, dtype: object"
      ]
     },
     "execution_count": 155,
     "metadata": {},
     "output_type": "execute_result"
    }
   ],
   "source": [
    "armour.price.describe().apply(lambda x: format(x, 'f'))"
   ]
  },
  {
   "cell_type": "code",
   "execution_count": 156,
   "metadata": {},
   "outputs": [
    {
     "data": {
      "text/plain": [
       "(163035, 300)"
      ]
     },
     "execution_count": 156,
     "metadata": {},
     "output_type": "execute_result"
    }
   ],
   "source": [
    "# Filter extreme values.\n",
    "armour_filtered = armour.loc[(armour.price > 20) & (armour.price < 500)]\n",
    "armour_filtered.shape"
   ]
  },
  {
   "cell_type": "code",
   "execution_count": 166,
   "metadata": {},
   "outputs": [
    {
     "data": {
      "text/plain": [
       "<matplotlib.axes._subplots.AxesSubplot at 0x7f2806927cf8>"
      ]
     },
     "execution_count": 166,
     "metadata": {},
     "output_type": "execute_result"
    },
    {
     "data": {
      "image/png": "[encoded data removed]",
      "text/plain": [
       "<matplotlib.figure.Figure at 0x7f280696b630>"
      ]
     },
     "metadata": {},
     "output_type": "display_data"
    }
   ],
   "source": [
    "armour_filtered.price.hist(bins=50)"
   ]
  },
  {
   "cell_type": "code",
   "execution_count": 157,
   "metadata": {},
   "outputs": [
    {
     "name": "stdout",
     "output_type": "stream",
     "text": [
      "(163035, 299)\n",
      "(163035,)\n"
     ]
    }
   ],
   "source": [
    "x = armour_filtered.drop(['price'], axis=1)   \n",
    "y = armour_filtered.price.astype(int)\n",
    "y_bins = pd.cut(y, bins=price_bins, labels=False)\n",
    "print(x.shape)\n",
    "print(y_bins.shape)"
   ]
  },
  {
   "cell_type": "code",
   "execution_count": 158,
   "metadata": {},
   "outputs": [
    {
     "data": {
      "text/plain": [
       "<matplotlib.axes._subplots.AxesSubplot at 0x7f2806dca630>"
      ]
     },
     "execution_count": 158,
     "metadata": {},
     "output_type": "execute_result"
    },
    {
     "data": {
      "image/png": "[encoded data removed]",
      "text/plain": [
       "<matplotlib.figure.Figure at 0x7f2806c97240>"
      ]
     },
     "metadata": {},
     "output_type": "display_data"
    }
   ],
   "source": [
    "y_bins.hist(bins=price_bins)"
   ]
  },
  {
   "cell_type": "markdown",
   "metadata": {},
   "source": [
    "## Similarity Matrix"
   ]
  },
  {
   "cell_type": "markdown",
   "metadata": {},
   "source": [
    "## Clustering"
   ]
  },
  {
   "cell_type": "markdown",
   "metadata": {},
   "source": [
    "### PCA"
   ]
  },
  {
   "cell_type": "code",
   "execution_count": 159,
   "metadata": {},
   "outputs": [
    {
     "data": {
      "text/plain": [
       "[<matplotlib.lines.Line2D at 0x7f2806be0b70>]"
      ]
     },
     "execution_count": 159,
     "metadata": {},
     "output_type": "execute_result"
    },
    {
     "data": {
      "image/png": "[encoded data removed]",
      "text/plain": [
       "<matplotlib.figure.Figure at 0x7f2806c7bb38>"
      ]
     },
     "metadata": {},
     "output_type": "display_data"
    }
   ],
   "source": [
    "pca = PCA(n_components=10)\n",
    "pca.fit(x)\n",
    "\n",
    "variance_pca = np.cumsum(np.round(pca.explained_variance_ratio_, decimals=3) * 100)\n",
    "\n",
    "plt.ylabel('Variance')\n",
    "plt.xlabel('Features')\n",
    "plt.title('PCA')\n",
    "\n",
    "plt.plot(variance_pca)"
   ]
  },
  {
   "cell_type": "markdown",
   "metadata": {},
   "source": [
    "### LDA"
   ]
  },
  {
   "cell_type": "markdown",
   "metadata": {},
   "source": [
    "## Prediction"
   ]
  },
  {
   "cell_type": "code",
   "execution_count": 162,
   "metadata": {},
   "outputs": [
    {
     "name": "stdout",
     "output_type": "stream",
     "text": [
      "mean accuracy: 0.6096298200815193, var accuracy: 1.4598711492454998e-06\n"
     ]
    }
   ],
   "source": [
    "model = LGBMClassifier(boosting='gbdt')\n",
    "model.fit(x, y_bins)\n",
    "print(\"mean accuracy: {}, var accuracy: {}\".format(np.mean(cross_val_score(model, x, y_bins, cv=10)),\n",
    "                                                   np.var(cross_val_score(model, x, y_bins, cv=10))))"
   ]
  },
  {
   "cell_type": "code",
   "execution_count": 163,
   "metadata": {},
   "outputs": [
    {
     "data": {
      "text/plain": [
       "<matplotlib.axes._subplots.AxesSubplot at 0x7f2806adccf8>"
      ]
     },
     "execution_count": 163,
     "metadata": {},
     "output_type": "execute_result"
    },
    {
     "data": {
      "image/png": "[encoded data removed]",
      "text/plain": [
       "<matplotlib.figure.Figure at 0x7f28074208d0>"
      ]
     },
     "metadata": {},
     "output_type": "display_data"
    }
   ],
   "source": [
    "plot_importance(model, max_num_features=10)"
   ]
  }
 ],
 "metadata": {
  "kernelspec": {
   "display_name": "Python 3",
   "language": "python",
   "name": "python3"
  },
  "language_info": {
   "codemirror_mode": {
    "name": "ipython",
    "version": 3
   },
   "file_extension": ".py",
   "mimetype": "text/x-python",
   "name": "python",
   "nbconvert_exporter": "python",
   "pygments_lexer": "ipython3",
   "version": "3.6.5"
  }
 },
 "nbformat": 4,
 "nbformat_minor": 2
}
