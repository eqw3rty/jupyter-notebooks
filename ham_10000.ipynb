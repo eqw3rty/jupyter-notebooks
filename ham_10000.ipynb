{
 "cells": [
  {
   "cell_type": "markdown",
   "metadata": {},
   "source": [
    "# HAM 10000"
   ]
  },
  {
   "cell_type": "code",
   "execution_count": 1,
   "metadata": {},
   "outputs": [],
   "source": [
    "import numpy as np\n",
    "import pandas as pd\n",
    "\n",
    "from sklearn.model_selection import train_test_split\n",
    "\n",
    "import tensorflow\n",
    "\n",
    "from tensorflow.keras.applications.mobilenet import MobileNet\n",
    "from tensorflow.python.keras.applications import InceptionV3\n",
    "from tensorflow.python.keras.models import Sequential\n",
    "from tensorflow.keras.applications.mobilenet import preprocess_input\n",
    "from tensorflow.keras.layers import Dense, Dropout\n",
    "from tensorflow.keras.models import Model\n",
    "from tensorflow.keras.preprocessing.image import ImageDataGenerator\n",
    "from tensorflow.keras.optimizers import Adam\n",
    "\n",
    "from IPython.display import Image\n",
    "\n",
    "import shutil"
   ]
  },
  {
   "cell_type": "code",
   "execution_count": 2,
   "metadata": {},
   "outputs": [],
   "source": [
    "meta_path = '../data/skin-cancer-mnist-ham10000/HAM10000_metadata.csv'\n",
    "image_path = '../data/skin-cancer-mnist-ham10000/images' # part 1 & 2\n",
    "input_path = '../data/skin-cancer-mnist-ham10000/input' # train, val, test\n",
    "\n",
    "meta = pd.read_csv(meta_path)"
   ]
  },
  {
   "cell_type": "code",
   "execution_count": 4,
   "metadata": {},
   "outputs": [
    {
     "name": "stdout",
     "output_type": "stream",
     "text": [
      "Creating input folders:\n",
      "test\n",
      "train\n",
      "val\n"
     ]
    }
   ],
   "source": [
    "%%bash -s \"$input_path\"\n",
    "# echo \"Droping input folder $1\"\n",
    "# rm -r $1\n",
    "echo \"Creating input folders:\"\n",
    "mkdir -p $1/train/{nv,bkl,mel,bcc,akiec,vasc,df}\n",
    "mkdir -p $1/test/{nv,bkl,mel,bcc,akiec,vasc,df}\n",
    "mkdir -p $1/val/{nv,bkl,mel,bcc,akiec,vasc,df}\n",
    "ls $1"
   ]
  },
  {
   "cell_type": "markdown",
   "metadata": {},
   "source": [
    "## Overview"
   ]
  },
  {
   "cell_type": "code",
   "execution_count": 5,
   "metadata": {},
   "outputs": [
    {
     "data": {
      "text/html": [
       "<div>\n",
       "<style scoped>\n",
       "    .dataframe tbody tr th:only-of-type {\n",
       "        vertical-align: middle;\n",
       "    }\n",
       "\n",
       "    .dataframe tbody tr th {\n",
       "        vertical-align: top;\n",
       "    }\n",
       "\n",
       "    .dataframe thead th {\n",
       "        text-align: right;\n",
       "    }\n",
       "</style>\n",
       "<table border=\"1\" class=\"dataframe\">\n",
       "  <thead>\n",
       "    <tr style=\"text-align: right;\">\n",
       "      <th></th>\n",
       "      <th>lesion_id</th>\n",
       "      <th>image_id</th>\n",
       "      <th>dx</th>\n",
       "      <th>dx_type</th>\n",
       "      <th>age</th>\n",
       "      <th>sex</th>\n",
       "      <th>localization</th>\n",
       "    </tr>\n",
       "  </thead>\n",
       "  <tbody>\n",
       "    <tr>\n",
       "      <th>0</th>\n",
       "      <td>HAM_0000118</td>\n",
       "      <td>ISIC_0027419</td>\n",
       "      <td>bkl</td>\n",
       "      <td>histo</td>\n",
       "      <td>80.0</td>\n",
       "      <td>male</td>\n",
       "      <td>scalp</td>\n",
       "    </tr>\n",
       "    <tr>\n",
       "      <th>1</th>\n",
       "      <td>HAM_0000118</td>\n",
       "      <td>ISIC_0025030</td>\n",
       "      <td>bkl</td>\n",
       "      <td>histo</td>\n",
       "      <td>80.0</td>\n",
       "      <td>male</td>\n",
       "      <td>scalp</td>\n",
       "    </tr>\n",
       "    <tr>\n",
       "      <th>2</th>\n",
       "      <td>HAM_0002730</td>\n",
       "      <td>ISIC_0026769</td>\n",
       "      <td>bkl</td>\n",
       "      <td>histo</td>\n",
       "      <td>80.0</td>\n",
       "      <td>male</td>\n",
       "      <td>scalp</td>\n",
       "    </tr>\n",
       "    <tr>\n",
       "      <th>3</th>\n",
       "      <td>HAM_0002730</td>\n",
       "      <td>ISIC_0025661</td>\n",
       "      <td>bkl</td>\n",
       "      <td>histo</td>\n",
       "      <td>80.0</td>\n",
       "      <td>male</td>\n",
       "      <td>scalp</td>\n",
       "    </tr>\n",
       "    <tr>\n",
       "      <th>4</th>\n",
       "      <td>HAM_0001466</td>\n",
       "      <td>ISIC_0031633</td>\n",
       "      <td>bkl</td>\n",
       "      <td>histo</td>\n",
       "      <td>75.0</td>\n",
       "      <td>male</td>\n",
       "      <td>ear</td>\n",
       "    </tr>\n",
       "  </tbody>\n",
       "</table>\n",
       "</div>"
      ],
      "text/plain": [
       "     lesion_id      image_id   dx dx_type   age   sex localization\n",
       "0  HAM_0000118  ISIC_0027419  bkl   histo  80.0  male        scalp\n",
       "1  HAM_0000118  ISIC_0025030  bkl   histo  80.0  male        scalp\n",
       "2  HAM_0002730  ISIC_0026769  bkl   histo  80.0  male        scalp\n",
       "3  HAM_0002730  ISIC_0025661  bkl   histo  80.0  male        scalp\n",
       "4  HAM_0001466  ISIC_0031633  bkl   histo  75.0  male          ear"
      ]
     },
     "execution_count": 5,
     "metadata": {},
     "output_type": "execute_result"
    }
   ],
   "source": [
    "meta.head(5)"
   ]
  },
  {
   "cell_type": "code",
   "execution_count": 7,
   "metadata": {},
   "outputs": [
    {
     "data": {
      "text/plain": [
       "<matplotlib.axes._subplots.AxesSubplot at 0x7efe520a8cc0>"
      ]
     },
     "execution_count": 7,
     "metadata": {},
     "output_type": "execute_result"
    },
    {
     "data": {
      "image/png": "[encoded data removed]",
      "text/plain": [
       "<Figure size 432x288 with 1 Axes>"
      ]
     },
     "metadata": {
      "needs_background": "light"
     },
     "output_type": "display_data"
    }
   ],
   "source": [
    "meta.dx.value_counts().plot(kind='bar')"
   ]
  },
  {
   "cell_type": "markdown",
   "metadata": {},
   "source": [
    "## Data Preparation"
   ]
  },
  {
   "cell_type": "markdown",
   "metadata": {},
   "source": [
    "### Remove duplicates"
   ]
  },
  {
   "cell_type": "code",
   "execution_count": 8,
   "metadata": {},
   "outputs": [
    {
     "data": {
      "text/plain": [
       "nv       5403\n",
       "bkl       727\n",
       "mel       614\n",
       "bcc       327\n",
       "akiec     228\n",
       "vasc       98\n",
       "df         73\n",
       "Name: dx, dtype: int64"
      ]
     },
     "execution_count": 8,
     "metadata": {},
     "output_type": "execute_result"
    }
   ],
   "source": [
    "meta = meta.groupby('lesion_id').nth(0).reset_index()\n",
    "meta.dx.value_counts()"
   ]
  },
  {
   "cell_type": "markdown",
   "metadata": {},
   "source": [
    "### Downsample `nv` and `bkl`"
   ]
  },
  {
   "cell_type": "code",
   "execution_count": 9,
   "metadata": {},
   "outputs": [
    {
     "data": {
      "text/plain": [
       "bkl      614\n",
       "mel      614\n",
       "nv       614\n",
       "bcc      327\n",
       "akiec    228\n",
       "vasc      98\n",
       "df        73\n",
       "Name: dx, dtype: int64"
      ]
     },
     "execution_count": 9,
     "metadata": {},
     "output_type": "execute_result"
    }
   ],
   "source": [
    "# Optional step\n",
    "\n",
    "dx_counts = meta.dx.value_counts()\n",
    "\n",
    "del_meta_nv = meta[meta.dx == 'nv'].sample(n=dx_counts['nv']-dx_counts['mel']).index\n",
    "del_meta_bkl = meta[meta.dx == 'bkl'].sample(n=dx_counts['bkl']-dx_counts['mel']).index\n",
    "\n",
    "meta = meta.loc[~meta.index.isin(del_meta_nv)]\n",
    "meta = meta.loc[~meta.index.isin(del_meta_bkl)]\n",
    "\n",
    "meta.dx.value_counts()"
   ]
  },
  {
   "cell_type": "markdown",
   "metadata": {},
   "source": [
    "### Train/val/test split"
   ]
  },
  {
   "cell_type": "code",
   "execution_count": 10,
   "metadata": {},
   "outputs": [
    {
     "name": "stdout",
     "output_type": "stream",
     "text": [
      "(2054, 7) (462, 7) (52, 7)\n"
     ]
    }
   ],
   "source": [
    "train, Test = train_test_split(meta, stratify=meta.dx, test_size=0.2)\n",
    "val, test = train_test_split(Test, stratify=Test.dx, test_size=0.1)\n",
    "\n",
    "print(train.shape, val.shape, test.shape)"
   ]
  },
  {
   "cell_type": "markdown",
   "metadata": {},
   "source": [
    "### Copy images to `input` folder"
   ]
  },
  {
   "cell_type": "code",
   "execution_count": 14,
   "metadata": {},
   "outputs": [
    {
     "name": "stdout",
     "output_type": "stream",
     "text": [
      "Copying 2054 images to train folder\n",
      "Copying 462 images to val folder\n",
      "Copying 52 images to test folder\n"
     ]
    }
   ],
   "source": [
    "def copy_images(df, df_name):\n",
    "    print('Copying {} images to {} folder'.format(len(df), df_name))\n",
    "    for _, row in df.iterrows():\n",
    "        src = '{}/{}.jpg'.format(image_path, row.image_id)\n",
    "        dest = '{}/{}/{}/'.format(input_path, df_name, row.dx)\n",
    "        # print('Copying {} to {}'.format(src, dest))\n",
    "        shutil.copy2(src, dest)\n",
    "\n",
    "copy_images(train, 'train')\n",
    "copy_images(val, 'val')\n",
    "copy_images(test, 'test')"
   ]
  },
  {
   "cell_type": "markdown",
   "metadata": {},
   "source": [
    "### Data Augmentation"
   ]
  },
  {
   "cell_type": "code",
   "execution_count": 26,
   "metadata": {},
   "outputs": [],
   "source": [
    "data_gen = ImageDataGenerator(\n",
    "    rotation_range=90,\n",
    "    width_shift_range=0.1,\n",
    "    height_shift_range=0.1,\n",
    "    zoom_range=0.1,\n",
    "    horizontal_flip=True,\n",
    "    vertical_flip=True,\n",
    "    fill_mode='nearest'\n",
    ")"
   ]
  },
  {
   "cell_type": "code",
   "execution_count": 27,
   "metadata": {},
   "outputs": [
    {
     "name": "stdout",
     "output_type": "stream",
     "text": [
      "Found 2054 images belonging to 7 classes.\n",
      "Found 421 images belonging to 7 classes.\n",
      "Found 52 images belonging to 7 classes.\n"
     ]
    }
   ],
   "source": [
    "train_batch_size = 32\n",
    "train_gen = data_gen.flow_from_directory(\n",
    "    '{}/train'.format(input_path),\n",
    "    target_size=(224,224),\n",
    "    color_mode=\"rgb\",\n",
    "    batch_size=train_batch_size,\n",
    "    class_mode=\"categorical\"\n",
    ")\n",
    "\n",
    "val_batch_size = 32\n",
    "val_gen = data_gen.flow_from_directory(\n",
    "    '{}/val'.format(input_path),\n",
    "    target_size=(224,224),\n",
    "    color_mode=\"rgb\",\n",
    "    batch_size=val_batch_size,\n",
    "    class_mode=\"categorical\"\n",
    ")\n",
    "\n",
    "test_gen = data_gen.flow_from_directory(\n",
    "    '{}/test'.format(input_path),\n",
    "    target_size=(224,224),\n",
    "    color_mode=\"rgb\",\n",
    "    batch_size=1,\n",
    "    shuffle=False,\n",
    "    class_mode=\"categorical\"\n",
    ")"
   ]
  },
  {
   "cell_type": "markdown",
   "metadata": {},
   "source": [
    "## MobileNet"
   ]
  },
  {
   "cell_type": "code",
   "execution_count": 28,
   "metadata": {},
   "outputs": [],
   "source": [
    "mobile = MobileNet()\n",
    "\n",
    "x = mobile.layers[-6].output\n",
    "predictions = Dense(7, activation='softmax')(x) # 7 classes\n",
    "\n",
    "model = Model(inputs=mobile.input, outputs=predictions)\n",
    "\n",
    "for layer in model.layers[:-23]: # train last `n` layers\n",
    "    layer.trainable = False\n",
    "\n",
    "model.compile(optimizer=Adam(lr=.01), loss=\"categorical_crossentropy\", metrics=[\"accuracy\"])"
   ]
  },
  {
   "cell_type": "code",
   "execution_count": null,
   "metadata": {},
   "outputs": [],
   "source": [
    "model.fit_generator(\n",
    "    train_gen,\n",
    "    epochs=10,\n",
    "    steps_per_epoch=train_gen.n//train_gen.batch_size, \n",
    "    validation_data=val_gen,\n",
    "    validation_steps=val_gen.n//val_gen.batch_size,\n",
    "    verbose=2\n",
    ")"
   ]
  }
 ],
 "metadata": {
  "kernelspec": {
   "display_name": "Python 3",
   "language": "python",
   "name": "python3"
  },
  "language_info": {
   "codemirror_mode": {
    "name": "ipython",
    "version": 3
   },
   "file_extension": ".py",
   "mimetype": "text/x-python",
   "name": "python",
   "nbconvert_exporter": "python",
   "pygments_lexer": "ipython3",
   "version": "3.7.3"
  }
 },
 "nbformat": 4,
 "nbformat_minor": 4
}
